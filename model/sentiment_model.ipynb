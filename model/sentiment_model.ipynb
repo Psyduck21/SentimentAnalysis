{
 "cells": [
  {
   "cell_type": "markdown",
   "id": "993d0710",
   "metadata": {},
   "source": [
    "# Sentiment Analysis Model\n",
    "This notebook focuses on training and evaluating a sentiment analysis model using various techniques."
   ]
  },
  {
   "cell_type": "markdown",
   "id": "941debc2",
   "metadata": {},
   "source": [
    "## Import Necessary Libraries\n",
    "The following cell imports required libraries for data manipulation, visualization, and model building."
   ]
  },
  {
   "cell_type": "code",
   "execution_count": 2,
   "metadata": {
    "id": "7MiRpleXU1nE"
   },
   "outputs": [],
   "source": [
    "# Import necessary libraries\n",
    "import numpy as np\n",
    "import pandas as pd\n",
    "from sklearn.model_selection import train_test_split\n",
    "from sklearn.metrics import accuracy_score, ConfusionMatrixDisplay, classification_report\n",
    "from sklearn.naive_bayes import MultinomialNB\n",
    "import matplotlib.pyplot as plt\n",
    "from sklearn.model_selection import RandomizedSearchCV\n",
    "from sklearn.naive_bayes import MultinomialNB\n",
    "import re\n",
    "from sklearn.feature_extraction.text import CountVectorizer\n",
    "import joblib\n",
    "from sklearn.utils import resample\n",
    "import warnings\n",
    "warnings.filterwarnings('ignore')"
   ]
  },
  {
   "cell_type": "markdown",
   "id": "49d07d97",
   "metadata": {},
   "source": [
    "## Load and Preview Dataset\n",
    "The following cell loads the training and testing datasets and previews the data."
   ]
  },
  {
   "cell_type": "code",
   "execution_count": 3,
   "metadata": {
    "colab": {
     "base_uri": "https://localhost:8080/",
     "height": 206
    },
    "id": "03A38kLRE0Hc",
    "outputId": "0208acb2-b21e-419d-a06a-00b58b698a92"
   },
   "outputs": [
    {
     "data": {
      "text/html": [
       "<div>\n",
       "<style scoped>\n",
       "    .dataframe tbody tr th:only-of-type {\n",
       "        vertical-align: middle;\n",
       "    }\n",
       "\n",
       "    .dataframe tbody tr th {\n",
       "        vertical-align: top;\n",
       "    }\n",
       "\n",
       "    .dataframe thead th {\n",
       "        text-align: right;\n",
       "    }\n",
       "</style>\n",
       "<table border=\"1\" class=\"dataframe\">\n",
       "  <thead>\n",
       "    <tr style=\"text-align: right;\">\n",
       "      <th></th>\n",
       "      <th>textID</th>\n",
       "      <th>text</th>\n",
       "      <th>label</th>\n",
       "      <th>label_text</th>\n",
       "    </tr>\n",
       "  </thead>\n",
       "  <tbody>\n",
       "    <tr>\n",
       "      <th>0</th>\n",
       "      <td>cb774db0d1</td>\n",
       "      <td>I`d have responded, if I were going</td>\n",
       "      <td>1</td>\n",
       "      <td>neutral</td>\n",
       "    </tr>\n",
       "    <tr>\n",
       "      <th>1</th>\n",
       "      <td>549e992a42</td>\n",
       "      <td>Sooo SAD I will miss you here in San Diego!!!</td>\n",
       "      <td>0</td>\n",
       "      <td>negative</td>\n",
       "    </tr>\n",
       "    <tr>\n",
       "      <th>2</th>\n",
       "      <td>088c60f138</td>\n",
       "      <td>my boss is bullying me...</td>\n",
       "      <td>0</td>\n",
       "      <td>negative</td>\n",
       "    </tr>\n",
       "    <tr>\n",
       "      <th>3</th>\n",
       "      <td>9642c003ef</td>\n",
       "      <td>what interview! leave me alone</td>\n",
       "      <td>0</td>\n",
       "      <td>negative</td>\n",
       "    </tr>\n",
       "    <tr>\n",
       "      <th>4</th>\n",
       "      <td>358bd9e861</td>\n",
       "      <td>Sons of ****, why couldn`t they put them on t...</td>\n",
       "      <td>0</td>\n",
       "      <td>negative</td>\n",
       "    </tr>\n",
       "  </tbody>\n",
       "</table>\n",
       "</div>"
      ],
      "text/plain": [
       "       textID                                               text  label  \\\n",
       "0  cb774db0d1                I`d have responded, if I were going      1   \n",
       "1  549e992a42      Sooo SAD I will miss you here in San Diego!!!      0   \n",
       "2  088c60f138                          my boss is bullying me...      0   \n",
       "3  9642c003ef                     what interview! leave me alone      0   \n",
       "4  358bd9e861   Sons of ****, why couldn`t they put them on t...      0   \n",
       "\n",
       "  label_text  \n",
       "0    neutral  \n",
       "1   negative  \n",
       "2   negative  \n",
       "3   negative  \n",
       "4   negative  "
      ]
     },
     "execution_count": 3,
     "metadata": {},
     "output_type": "execute_result"
    }
   ],
   "source": [
    "# Load and preview datasets\n",
    "splits = {'train': 'train.jsonl', 'test': 'test.jsonl'}\n",
    "\n",
    "# Ensure you are loading the correct file paths and remove undefined parts\n",
    "df_train = pd.read_json(\"hf://datasets/SetFit/tweet_sentiment_extraction/\" + splits[\"train\"], lines=True)\n",
    "df_test = pd.read_json(\"hf://datasets/SetFit/tweet_sentiment_extraction/\" + splits[\"test\"], lines=True)\n",
    "\n",
    "# Display the first few rows of the datasets\n",
    "df_train.head()"
   ]
  },
  {
   "cell_type": "markdown",
   "id": "f9b5eb07",
   "metadata": {},
   "source": [
    "## Balance Dataset\n",
    "This cell balances the dataset to ensure that all classes are equally represented."
   ]
  },
  {
   "cell_type": "code",
   "execution_count": 5,
   "metadata": {},
   "outputs": [
    {
     "data": {
      "image/png": "[encoded data removed]",
      "text/plain": [
       "<Figure size 800x600 with 1 Axes>"
      ]
     },
     "metadata": {},
     "output_type": "display_data"
    }
   ],
   "source": [
    "sentiment_counts = df_train.label_text.value_counts()\n",
    "plt.figure(figsize=(8, 6))\n",
    "sentiment_counts.plot(kind='bar', color=['red', 'green'], alpha=0.7)\n",
    "plt.title(\"Sentiment Analysis Results\")\n",
    "plt.xlabel(\"Sentiment\")\n",
    "plt.ylabel(\"Count\")\n",
    "plt.xticks(rotation=0)\n",
    "plt.show()"
   ]
  },
  {
   "cell_type": "code",
   "execution_count": 6,
   "metadata": {
    "colab": {
     "base_uri": "https://localhost:8080/"
    },
    "id": "Jx2AmZYEE3Ag",
    "outputId": "59e5d112-34ba-4937-bbab-2c65c9926aff"
   },
   "outputs": [
    {
     "name": "stdout",
     "output_type": "stream",
     "text": [
      "label\n",
      "0    7781\n",
      "2    7781\n",
      "1    7781\n",
      "Name: count, dtype: int64\n"
     ]
    }
   ],
   "source": [
    "\n",
    "\n",
    "majority_class = df_train['label'].value_counts().idxmax()\n",
    "minority_class = df_train['label'].value_counts().idxmin()\n",
    "\n",
    "dfs = [df_train[df_train['label'] == i] for i in df_train['label'].unique()]\n",
    "\n",
    "target_size = min(df_train['label'].value_counts())\n",
    "balanced_dfs = [resample(d, replace=False, n_samples=target_size, random_state=42) if len(d) > target_size else d for d in dfs]\n",
    "\n",
    "# Combine balanced subsets\n",
    "balanced_df = pd.concat(balanced_dfs)\n",
    "\n",
    "# Shuffle the dataset\n",
    "balanced_df = balanced_df.sample(frac=1, random_state=42).reset_index(drop=True)\n",
    "\n",
    "# Check new class distribution\n",
    "print(balanced_df['label'].value_counts())\n"
   ]
  },
  {
   "cell_type": "code",
   "execution_count": 7,
   "metadata": {},
   "outputs": [
    {
     "data": {
      "text/html": [
       "<div>\n",
       "<style scoped>\n",
       "    .dataframe tbody tr th:only-of-type {\n",
       "        vertical-align: middle;\n",
       "    }\n",
       "\n",
       "    .dataframe tbody tr th {\n",
       "        vertical-align: top;\n",
       "    }\n",
       "\n",
       "    .dataframe thead th {\n",
       "        text-align: right;\n",
       "    }\n",
       "</style>\n",
       "<table border=\"1\" class=\"dataframe\">\n",
       "  <thead>\n",
       "    <tr style=\"text-align: right;\">\n",
       "      <th></th>\n",
       "      <th>textID</th>\n",
       "      <th>text</th>\n",
       "      <th>label</th>\n",
       "      <th>label_text</th>\n",
       "    </tr>\n",
       "  </thead>\n",
       "  <tbody>\n",
       "    <tr>\n",
       "      <th>0</th>\n",
       "      <td>a72de1b056</td>\n",
       "      <td>Kennedy was re-injured at RAW on Monday. He`s...</td>\n",
       "      <td>0</td>\n",
       "      <td>negative</td>\n",
       "    </tr>\n",
       "    <tr>\n",
       "      <th>1</th>\n",
       "      <td>64ed512788</td>\n",
       "      <td>Sick. With a flu like thing.</td>\n",
       "      <td>0</td>\n",
       "      <td>negative</td>\n",
       "    </tr>\n",
       "    <tr>\n",
       "      <th>2</th>\n",
       "      <td>d081503cff</td>\n",
       "      <td>_Shan_West Im so excited to see u!! Its been f...</td>\n",
       "      <td>2</td>\n",
       "      <td>positive</td>\n",
       "    </tr>\n",
       "    <tr>\n",
       "      <th>3</th>\n",
       "      <td>0034cbc1c3</td>\n",
       "      <td>mmmm it all sounds tasty. i had some spiced r...</td>\n",
       "      <td>2</td>\n",
       "      <td>positive</td>\n",
       "    </tr>\n",
       "    <tr>\n",
       "      <th>4</th>\n",
       "      <td>66ce4f66ad</td>\n",
       "      <td>fml my work uniform is on the washing line</td>\n",
       "      <td>0</td>\n",
       "      <td>negative</td>\n",
       "    </tr>\n",
       "  </tbody>\n",
       "</table>\n",
       "</div>"
      ],
      "text/plain": [
       "       textID                                               text  label  \\\n",
       "0  a72de1b056   Kennedy was re-injured at RAW on Monday. He`s...      0   \n",
       "1  64ed512788                       Sick. With a flu like thing.      0   \n",
       "2  d081503cff  _Shan_West Im so excited to see u!! Its been f...      2   \n",
       "3  0034cbc1c3   mmmm it all sounds tasty. i had some spiced r...      2   \n",
       "4  66ce4f66ad         fml my work uniform is on the washing line      0   \n",
       "\n",
       "  label_text  \n",
       "0   negative  \n",
       "1   negative  \n",
       "2   positive  \n",
       "3   positive  \n",
       "4   negative  "
      ]
     },
     "execution_count": 7,
     "metadata": {},
     "output_type": "execute_result"
    }
   ],
   "source": [
    "balanced_df.head()"
   ]
  },
  {
   "cell_type": "code",
   "execution_count": 9,
   "metadata": {},
   "outputs": [
    {
     "data": {
      "image/png": "[encoded data removed]",
      "text/plain": [
       "<Figure size 800x600 with 1 Axes>"
      ]
     },
     "metadata": {},
     "output_type": "display_data"
    }
   ],
   "source": [
    "sentiment_counts = balanced_df.label_text.value_counts()\n",
    "plt.figure(figsize=(8, 6))\n",
    "sentiment_counts.plot(kind='bar', color=['red', 'green'], alpha=0.7)\n",
    "plt.title(\"Sentiment Analysis Results\")\n",
    "plt.xlabel(\"Sentiment\")\n",
    "plt.ylabel(\"Count\")\n",
    "plt.xticks(rotation=0)\n",
    "plt.show()"
   ]
  },
  {
   "cell_type": "code",
   "execution_count": 4,
   "metadata": {
    "colab": {
     "base_uri": "https://localhost:8080/"
    },
    "id": "AagskqizE-dz",
    "outputId": "76d02c51-c6f9-4826-cf03-5029e796914d"
   },
   "outputs": [
    {
     "name": "stdout",
     "output_type": "stream",
     "text": [
      "Text processing complete!\n"
     ]
    }
   ],
   "source": [
    "\n",
    "# Simple text cleaning function\n",
    "def simple_cleaning(text):\n",
    "    if not isinstance(text, str):  # Handle non-string entries\n",
    "        return \"\"\n",
    "    text = text.lower()  # Convert to lowercase\n",
    "    text = re.sub(r'[^\\w\\s]', '', text)  # Remove punctuation\n",
    "    text = re.sub(r'\\d+', '', text)  # Remove numbers\n",
    "    return text\n",
    "\n",
    "# Apply the function\n",
    "balanced_df['text'] = balanced_df['text'].apply(simple_cleaning)\n",
    "\n",
    "print(\"Text processing complete!\")\n"
   ]
  },
  {
   "cell_type": "code",
   "execution_count": 5,
   "metadata": {
    "colab": {
     "base_uri": "https://localhost:8080/"
    },
    "id": "Bun6xlq9E4zF",
    "outputId": "6bfcf48a-8e78-4187-aa40-cd0beb8b80ae"
   },
   "outputs": [
    {
     "data": {
      "text/plain": [
       "(23206, 4)"
      ]
     },
     "execution_count": 5,
     "metadata": {},
     "output_type": "execute_result"
    }
   ],
   "source": [
    "balanced_df.dropna(inplace=True)\n",
    "balanced_df.drop_duplicates(subset=['text'],inplace=True)\n",
    "balanced_df.shape"
   ]
  },
  {
   "cell_type": "code",
   "execution_count": 6,
   "metadata": {
    "colab": {
     "base_uri": "https://localhost:8080/",
     "height": 209
    },
    "id": "fuUon9IQE6ik",
    "outputId": "e7d335da-b15e-4395-d94a-4aa78fae4351"
   },
   "outputs": [
    {
     "data": {
      "text/plain": [
       "textID        0\n",
       "text          0\n",
       "label         0\n",
       "label_text    0\n",
       "dtype: int64"
      ]
     },
     "execution_count": 6,
     "metadata": {},
     "output_type": "execute_result"
    }
   ],
   "source": [
    "balanced_df.isnull().sum()"
   ]
  },
  {
   "cell_type": "code",
   "execution_count": 7,
   "metadata": {
    "id": "v9MKNQ7NE7uR"
   },
   "outputs": [],
   "source": [
    "balanced_df.drop(columns=['textID'],inplace = True)"
   ]
  },
  {
   "cell_type": "code",
   "execution_count": 8,
   "metadata": {
    "colab": {
     "base_uri": "https://localhost:8080/",
     "height": 206
    },
    "id": "PZ4D9v5rE8UA",
    "outputId": "61743520-a9f8-4dc0-89f1-15433df53035"
   },
   "outputs": [
    {
     "data": {
      "text/html": [
       "<div>\n",
       "<style scoped>\n",
       "    .dataframe tbody tr th:only-of-type {\n",
       "        vertical-align: middle;\n",
       "    }\n",
       "\n",
       "    .dataframe tbody tr th {\n",
       "        vertical-align: top;\n",
       "    }\n",
       "\n",
       "    .dataframe thead th {\n",
       "        text-align: right;\n",
       "    }\n",
       "</style>\n",
       "<table border=\"1\" class=\"dataframe\">\n",
       "  <thead>\n",
       "    <tr style=\"text-align: right;\">\n",
       "      <th></th>\n",
       "      <th>text</th>\n",
       "      <th>label</th>\n",
       "      <th>label_text</th>\n",
       "    </tr>\n",
       "  </thead>\n",
       "  <tbody>\n",
       "    <tr>\n",
       "      <th>0</th>\n",
       "      <td>kennedy was reinjured at raw on monday hes go...</td>\n",
       "      <td>0</td>\n",
       "      <td>negative</td>\n",
       "    </tr>\n",
       "    <tr>\n",
       "      <th>1</th>\n",
       "      <td>sick with a flu like thing</td>\n",
       "      <td>0</td>\n",
       "      <td>negative</td>\n",
       "    </tr>\n",
       "    <tr>\n",
       "      <th>2</th>\n",
       "      <td>_shan_west im so excited to see u its been for...</td>\n",
       "      <td>2</td>\n",
       "      <td>positive</td>\n",
       "    </tr>\n",
       "    <tr>\n",
       "      <th>3</th>\n",
       "      <td>mmmm it all sounds tasty i had some spiced ru...</td>\n",
       "      <td>2</td>\n",
       "      <td>positive</td>\n",
       "    </tr>\n",
       "    <tr>\n",
       "      <th>4</th>\n",
       "      <td>fml my work uniform is on the washing line</td>\n",
       "      <td>0</td>\n",
       "      <td>negative</td>\n",
       "    </tr>\n",
       "  </tbody>\n",
       "</table>\n",
       "</div>"
      ],
      "text/plain": [
       "                                                text  label label_text\n",
       "0   kennedy was reinjured at raw on monday hes go...      0   negative\n",
       "1                         sick with a flu like thing      0   negative\n",
       "2  _shan_west im so excited to see u its been for...      2   positive\n",
       "3   mmmm it all sounds tasty i had some spiced ru...      2   positive\n",
       "4         fml my work uniform is on the washing line      0   negative"
      ]
     },
     "execution_count": 8,
     "metadata": {},
     "output_type": "execute_result"
    }
   ],
   "source": [
    "balanced_df.head()"
   ]
  },
  {
   "cell_type": "code",
   "execution_count": 9,
   "metadata": {
    "colab": {
     "base_uri": "https://localhost:8080/",
     "height": 209
    },
    "id": "Pv845GveFAVr",
    "outputId": "fd18b3b9-f60e-4263-82ca-06f88d45fbf9"
   },
   "outputs": [
    {
     "data": {
      "text/plain": [
       "label\n",
       "0    7758\n",
       "1    7754\n",
       "2    7694\n",
       "Name: count, dtype: int64"
      ]
     },
     "execution_count": 9,
     "metadata": {},
     "output_type": "execute_result"
    }
   ],
   "source": [
    "balanced_df.label.value_counts()"
   ]
  },
  {
   "cell_type": "code",
   "execution_count": 10,
   "metadata": {
    "id": "llWgl7uyOSTZ"
   },
   "outputs": [],
   "source": [
    "balanced_df.drop(balanced_df[balanced_df['label'] == 1].index, inplace=True)"
   ]
  },
  {
   "cell_type": "code",
   "execution_count": 11,
   "metadata": {
    "colab": {
     "base_uri": "https://localhost:8080/",
     "height": 178
    },
    "id": "VOQGqRaROcVC",
    "outputId": "5edd1158-39e9-472f-cce2-a22b291ca71b"
   },
   "outputs": [
    {
     "data": {
      "text/plain": [
       "label\n",
       "0    7758\n",
       "2    7694\n",
       "Name: count, dtype: int64"
      ]
     },
     "execution_count": 11,
     "metadata": {},
     "output_type": "execute_result"
    }
   ],
   "source": [
    "balanced_df.label.value_counts()"
   ]
  },
  {
   "cell_type": "markdown",
   "metadata": {},
   "source": [
    "Saving the balanced Dataset"
   ]
  },
  {
   "cell_type": "code",
   "execution_count": 12,
   "metadata": {
    "id": "yrNdVeaEFT48"
   },
   "outputs": [],
   "source": [
    "balanced_df.to_csv(\"cleaned_dataset.csv\", index=False)"
   ]
  },
  {
   "cell_type": "markdown",
   "metadata": {},
   "source": [
    "## Vectorizing and Training Model\n",
    "\n",
    "loading the model and vectorizing"
   ]
  },
  {
   "cell_type": "code",
   "execution_count": 13,
   "metadata": {
    "colab": {
     "base_uri": "https://localhost:8080/"
    },
    "id": "GcEyPU8IFUvn",
    "outputId": "86aabe3f-db33-44c8-d5df-cf0f18adf2fb"
   },
   "outputs": [
    {
     "data": {
      "text/plain": [
       "(15452, 3)"
      ]
     },
     "execution_count": 13,
     "metadata": {},
     "output_type": "execute_result"
    }
   ],
   "source": [
    "df1 = pd.read_csv(\"cleaned_dataset.csv\")\n",
    "df1.shape"
   ]
  },
  {
   "cell_type": "code",
   "execution_count": 14,
   "metadata": {
    "colab": {
     "base_uri": "https://localhost:8080/",
     "height": 178
    },
    "id": "dWFoE3UEFYen",
    "outputId": "656c4451-f040-431f-f303-cc828e5c502b"
   },
   "outputs": [
    {
     "data": {
      "text/plain": [
       "text          0\n",
       "label         0\n",
       "label_text    0\n",
       "dtype: int64"
      ]
     },
     "execution_count": 14,
     "metadata": {},
     "output_type": "execute_result"
    }
   ],
   "source": [
    "df1.isnull().sum()"
   ]
  },
  {
   "cell_type": "code",
   "execution_count": 15,
   "metadata": {
    "id": "H3L-TtH7Fbeu"
   },
   "outputs": [],
   "source": [
    "df1.dropna(inplace=True)"
   ]
  },
  {
   "cell_type": "code",
   "execution_count": null,
   "metadata": {
    "colab": {
     "base_uri": "https://localhost:8080/"
    },
    "id": "rNEt-9JnFCN-",
    "outputId": "bc3ce5f5-9c35-49fa-ca02-174684942ab1"
   },
   "outputs": [
    {
     "name": "stdout",
     "output_type": "stream",
     "text": [
      "Processed data saved successfully as 'processed_dataset.npz'.\n"
     ]
    }
   ],
   "source": [
    "# Separate features and target\n",
    "X = df1['text']  # Feature column\n",
    "y = df1['label']  # Target column\n",
    "\n",
    "# Split into train and test sets\n",
    "X_train, X_test, y_train, y_test = train_test_split(X, y, test_size=0.3, random_state=42, stratify=y)\n",
    "\n",
    "vectorizer = CountVectorizer(max_features=10000)  \n",
    "X_train_vectorized = vectorizer.fit_transform(X_train).toarray()\n",
    "X_test_vectorized = vectorizer.transform(X_test).toarray()\n",
    "joblib.dump(vectorizer, \"./countvectorizer.pkl\")\n",
    "\n",
    "print(\"Processed data saved successfully as 'processed_dataset.npz'.\")\n"
   ]
  },
  {
   "cell_type": "code",
   "execution_count": null,
   "metadata": {
    "colab": {
     "base_uri": "https://localhost:8080/"
    },
    "id": "A1Vj8FF6U1nG",
    "outputId": "e705ec21-c30a-4101-d9f1-d43b75460b34"
   },
   "outputs": [
    {
     "name": "stdout",
     "output_type": "stream",
     "text": [
      "Original Data Shapes:\n",
      "X_train: (10816, 10000)\n",
      "X_test: (4636, 10000)\n",
      "y_train: (10816,)\n",
      "y_test: (4636,)\n"
     ]
    }
   ],
   "source": [
    "# Access the individual arrays\n",
    "X_train = X_train_vectorized\n",
    "X_test = X_test_vectorized\n",
    "y_train = y_train\n",
    "y_test = y_test\n",
    "\n",
    "# Print the shapes of the original dataset\n",
    "print(\"Original Data Shapes:\")\n",
    "print(\"X_train:\", X_train.shape)\n",
    "print(\"X_test:\", X_test.shape)\n",
    "print(\"y_train:\", y_train.shape)\n",
    "print(\"y_test:\", y_test.shape)\n",
    "\n"
   ]
  },
  {
   "cell_type": "markdown",
   "metadata": {},
   "source": [
    "initializing model and training"
   ]
  },
  {
   "cell_type": "code",
   "execution_count": 18,
   "metadata": {
    "colab": {
     "base_uri": "https://localhost:8080/"
    },
    "id": "uc8ie4IxLQAt",
    "outputId": "e3087c12-8a71-4c1f-fced-ac12d5aabfef"
   },
   "outputs": [
    {
     "name": "stdout",
     "output_type": "stream",
     "text": [
      "Accuracy: 0.864106988783434\n",
      "Classification Report:\n",
      "               precision    recall  f1-score   support\n",
      "\n",
      "           0       0.85      0.89      0.87      2328\n",
      "           2       0.88      0.84      0.86      2308\n",
      "\n",
      "    accuracy                           0.86      4636\n",
      "   macro avg       0.86      0.86      0.86      4636\n",
      "weighted avg       0.86      0.86      0.86      4636\n",
      "\n"
     ]
    }
   ],
   "source": [
    "# Initialize and train Multinomial Naive Bayes\n",
    "model = MultinomialNB()\n",
    "model.fit(X_train_vectorized, y_train)\n",
    "\n",
    "# Make predictions\n",
    "y_pred = model.predict(X_test_vectorized)\n",
    "\n",
    "# Evaluate the model\n",
    "accuracy = accuracy_score(y_test, y_pred)\n",
    "print(\"Accuracy:\", accuracy)\n",
    "print(\"Classification Report:\\n\", classification_report(y_test, y_pred))"
   ]
  },
  {
   "cell_type": "markdown",
   "metadata": {},
   "source": [
    "Displaying Confusion Matrix"
   ]
  },
  {
   "cell_type": "code",
   "execution_count": 19,
   "metadata": {
    "colab": {
     "base_uri": "https://localhost:8080/",
     "height": 472
    },
    "id": "jYPp5i-gO-Bx",
    "outputId": "74facca7-eea0-4424-c89d-4b9b52efbe6b"
   },
   "outputs": [
    {
     "data": {
      "image/png": "[encoded data removed]",
      "text/plain": [
       "<Figure size 640x480 with 2 Axes>"
      ]
     },
     "metadata": {},
     "output_type": "display_data"
    }
   ],
   "source": [
    "ConfusionMatrixDisplay.from_predictions(y_test, y_pred)\n",
    "plt.title(\"Confusion matrix for Naive Bais\")\n",
    "plt.show()"
   ]
  },
  {
   "cell_type": "markdown",
   "metadata": {},
   "source": [
    "## Hyper-Tuning the NB model\n",
    "\n",
    "hyper tuning and saving the model in pickel file"
   ]
  },
  {
   "cell_type": "code",
   "execution_count": 20,
   "metadata": {
    "colab": {
     "base_uri": "https://localhost:8080/"
    },
    "id": "HnqQ7eFbI5iH",
    "outputId": "b3d49aea-1399-42d9-dfc5-a9dda3ffb74b"
   },
   "outputs": [
    {
     "name": "stdout",
     "output_type": "stream",
     "text": [
      "Best Parameters: {'alpha': np.float64(1.0)}\n",
      "Accuracy: 0.864106988783434\n",
      "Classification Report:\n",
      "               precision    recall  f1-score   support\n",
      "\n",
      "           0       0.85      0.89      0.87      2328\n",
      "           2       0.88      0.84      0.86      2308\n",
      "\n",
      "    accuracy                           0.86      4636\n",
      "   macro avg       0.86      0.86      0.86      4636\n",
      "weighted avg       0.86      0.86      0.86      4636\n",
      "\n"
     ]
    }
   ],
   "source": [
    "\n",
    "\n",
    "# Define the hyperparameter space for alpha\n",
    "param_dist = {\n",
    "    'alpha': np.logspace(-3, 3, 7)  # Exploring values from 0.001 to 1000\n",
    "}\n",
    "\n",
    "# Initialize Multinomial Naive Bayes\n",
    "model = MultinomialNB()\n",
    "\n",
    "# Set up RandomizedSearchCV with 5-fold cross-validation\n",
    "random_search = RandomizedSearchCV(estimator=model, param_distributions=param_dist, n_iter=10, cv=5, scoring='accuracy', random_state=42)\n",
    "\n",
    "# Fit the randomized search to the data\n",
    "random_search.fit(X_train_vectorized, y_train)\n",
    "\n",
    "# Best parameters found by RandomizedSearchCV\n",
    "print(\"Best Parameters:\", random_search.best_params_)\n",
    "\n",
    "# Best model with the optimal hyperparameters\n",
    "best_model = random_search.best_estimator_\n",
    "\n",
    "# Make predictions with the best model\n",
    "y_pred = best_model.predict(X_test_vectorized)\n",
    "\n",
    "# Evaluate the best model\n",
    "accuracy = accuracy_score(y_test, y_pred)\n",
    "print(\"Accuracy:\", accuracy)\n",
    "print(\"Classification Report:\\n\", classification_report(y_test, y_pred))\n"
   ]
  },
  {
   "cell_type": "markdown",
   "metadata": {},
   "source": [
    "confusion matrix of hyper tunned model"
   ]
  },
  {
   "cell_type": "code",
   "execution_count": 21,
   "metadata": {
    "colab": {
     "base_uri": "https://localhost:8080/",
     "height": 472
    },
    "id": "bwGNQMidSjZk",
    "outputId": "ddb21aaa-9915-4c8d-df87-e6e77739cfaf"
   },
   "outputs": [
    {
     "data": {
      "image/png": "[encoded data removed]",
      "text/plain": [
       "<Figure size 640x480 with 2 Axes>"
      ]
     },
     "metadata": {},
     "output_type": "display_data"
    }
   ],
   "source": [
    "ConfusionMatrixDisplay.from_predictions(y_test, y_pred)\n",
    "plt.title(\"Confusion matrix for Naive Bais after Hyper tuning.s\")\n",
    "plt.show()"
   ]
  },
  {
   "cell_type": "markdown",
   "metadata": {},
   "source": [
    "saving model"
   ]
  },
  {
   "cell_type": "code",
   "execution_count": 22,
   "metadata": {
    "colab": {
     "base_uri": "https://localhost:8080/"
    },
    "id": "tlf-mQC0U1nN",
    "outputId": "d5227128-5c94-4812-933a-bc38509e51c0"
   },
   "outputs": [
    {
     "data": {
      "text/plain": [
       "['sentiment_analysis.pkl']"
      ]
     },
     "execution_count": 22,
     "metadata": {},
     "output_type": "execute_result"
    }
   ],
   "source": [
    "joblib.dump(best_model, \"sentiment_analysis.pkl\")"
   ]
  },
  {
   "cell_type": "code",
   "execution_count": 23,
   "metadata": {
    "colab": {
     "base_uri": "https://localhost:8080/"
    },
    "id": "vZ8Fcrb6NQXl",
    "outputId": "b1165985-9df3-4905-cc49-a7be3dafac7e"
   },
   "outputs": [
    {
     "name": "stdout",
     "output_type": "stream",
     "text": [
      "Predicted Class: 2\n"
     ]
    }
   ],
   "source": [
    "# 0 : negative 2: positive\n",
    "def predict_input_text(input_text):\n",
    "    # Transform the input text using the same vectorizer that was used during training\n",
    "    input_vector = vectorizer.transform([input_text])\n",
    "\n",
    "    # Use the trained model to predict the class label\n",
    "    prediction = best_model.predict(input_vector)\n",
    "\n",
    "    return prediction[0]  # Return the predicted label\n",
    "\n",
    "# Example usage\n",
    "input_text =\"I feel so relaxed and happy after my vacation. It was perfect in every way.\"\n",
    "predicted_class = predict_input_text(input_text)\n",
    "\n",
    "print(f\"Predicted Class: {predicted_class}\")"
   ]
  }
 ],
 "metadata": {
  "accelerator": "TPU",
  "colab": {
   "gpuType": "V28",
   "provenance": []
  },
  "kernelspec": {
   "display_name": "Python 3",
   "name": "python3"
  },
  "language_info": {
   "codemirror_mode": {
    "name": "ipython",
    "version": 3
   },
   "file_extension": ".py",
   "mimetype": "text/x-python",
   "name": "python",
   "nbconvert_exporter": "python",
   "pygments_lexer": "ipython3",
   "version": "3.12.8"
  }
 },
 "nbformat": 4,
 "nbformat_minor": 0
}
